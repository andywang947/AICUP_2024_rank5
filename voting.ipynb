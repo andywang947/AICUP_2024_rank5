{
 "cells": [
  {
   "cell_type": "code",
   "execution_count": 50,
   "metadata": {},
   "outputs": [],
   "source": [
    "from PIL import Image\n",
    "import os\n",
    "import numpy as np\n",
    "import matplotlib.pyplot as plt\n",
    "\n",
    "def show_img(img):\n",
    "    plt.imshow(img, cmap='gray')\n",
    "    plt.axis('off')\n",
    "    plt.show()\n",
    "\n",
    "# 設定目錄路徑\n",
    "dir_1_path = r\"D:\\codes\\AICUP\\reserve\\UNet_refinement_change_weight450_private\\public_result_zoomnet\"\n",
    "dir_2_path = r\"D:\\codes\\AICUP\\reserve\\UNet_refinement_change_weight450_private\\public_result_unet\"\n",
    "dir_3_path = r\"D:\\codes\\AICUP\\reserve\\UNet_refinement_change_weight450_private\\public_result_restomer\"\n",
    "dir_4_path = r\"D:\\codes\\AICUP\\reserve\\UNet_refinement_change_weight450_private\\public_result_normal_unet\"\n",
    "save_dir_path = r\"D:\\codes\\AICUP\\reserve\\UNet_refinement_change_weight450_private\\public_test_add_normal_unet\"\n",
    "\n",
    "# 確保保存目錄存在\n",
    "if not os.path.exists(save_dir_path):\n",
    "    os.makedirs(save_dir_path)\n",
    "\n",
    "files = os.listdir(dir_1_path)  # 獲取文件列表\n",
    "\n",
    "for i, file in enumerate(files):\n",
    "    img_1 = Image.open(os.path.join(dir_1_path, file)).convert('L')  # 轉為灰階\n",
    "    img_2 = Image.open(os.path.join(dir_2_path, file)).convert('L')  # 轉為灰階\n",
    "    img_3 = Image.open(os.path.join(dir_3_path, file)).convert('L')  # 轉為灰階\n",
    "    img_4 = Image.open(os.path.join(dir_4_path, file)).convert('L')  # 轉為灰階\n",
    "\n",
    "    img_1_array = np.array(img_1, dtype=np.uint8)\n",
    "    img_2_array = np.array(img_2, dtype=np.uint8)\n",
    "    img_3_array = np.array(img_3, dtype=np.uint8)\n",
    "    img_4_array = np.array(img_4, dtype=np.uint8)\n",
    "\n",
    "\n",
    "    # 計算逐像素的多數投票\n",
    "    stacked_images = np.stack((img_1_array, img_2_array, img_3_array, img_4_array), axis=2)\n",
    "    voting_array = np.apply_along_axis(lambda x: np.bincount(x).argmax(), axis=2, arr=stacked_images)\n",
    "\n",
    "    # 確保 voting_array 是 uint8 類型\n",
    "    voting_array = voting_array.astype(np.uint8)\n",
    "\n",
    "    # 顯示投票結果圖像\n",
    "    # show_img(voting_array)\n",
    "\n",
    "    # 保存投票結果圖像\n",
    "    new_img_path = os.path.join(save_dir_path, file)\n",
    "    img = Image.fromarray(voting_array)\n",
    "    img.save(new_img_path)\n"
   ]
  }
 ],
 "metadata": {
  "kernelspec": {
   "display_name": "AICUP",
   "language": "python",
   "name": "python3"
  },
  "language_info": {
   "codemirror_mode": {
    "name": "ipython",
    "version": 3
   },
   "file_extension": ".py",
   "mimetype": "text/x-python",
   "name": "python",
   "nbconvert_exporter": "python",
   "pygments_lexer": "ipython3",
   "version": "3.11.9"
  }
 },
 "nbformat": 4,
 "nbformat_minor": 2
}
